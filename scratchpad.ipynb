{
 "cells": [
  {
   "cell_type": "code",
   "execution_count": null,
   "metadata": {},
   "outputs": [],
   "source": [
    "import os"
   ]
  },
  {
   "cell_type": "code",
   "execution_count": null,
   "metadata": {},
   "outputs": [],
   "source": [
    "# Edit .txt files containing paths to images\n",
    "modified_lines = []\n",
    "f = open(\"../duplin_data_1cls/valid.txt\", \"r\")\n",
    "for line in f:\n",
    "    file_name = os.path.split(line)[1]\n",
    "    modified_lines.append(\"../duplin_data_1cls/images/\" + file_name)\n",
    "f.close()\n",
    "\n",
    "f = open(\"data/valid_duplin_data_1cls.txt\", \"w\")\n",
    "for line in modified_lines:\n",
    "    f.write(line)\n",
    "f.close()"
   ]
  }
 ],
 "metadata": {
  "language_info": {
   "name": "python",
   "pygments_lexer": "ipython3"
  }
 },
 "nbformat": 4,
 "nbformat_minor": 2
}
