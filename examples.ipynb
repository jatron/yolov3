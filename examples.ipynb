{
 "nbformat": 4,
 "nbformat_minor": 0,
 "metadata": {
  "language_info": {
   "name": "python",
   "pygments_lexer": "ipython3"
  }
 },
 "cells": [
  {
   "cell_type": "markdown",
   "metadata": {},
   "source": [
    "<img src=\"https://storage.googleapis.com/ultralytics/logo/logoname1000.png\" width=\"150\">\n",
    "\n",
    "This notebook contains software developed by Ultralytics LLC, and **is freely available for redistribution under the GPL-3.0 license**. For more information please visit https://github.com/ultralytics/yolov3 and https://www.ultralytics.com.\n",
    "\n",
    "\n",
    "\n"
   ]
  },
  {
   "cell_type": "code",
   "metadata": {},
   "source": [
    "import time\n",
    "import glob\n",
    "import torch\n",
    "import os\n",
    "\n",
    "from IPython.display import Image, clear_output \n",
    "print('PyTorch %s %s' % (torch.__version__, torch.cuda.get_device_properties(0) if torch.cuda.is_available() else 'CPU'))"
   ],
   "execution_count": null,
   "outputs": []
  },
  {
   "cell_type": "markdown",
   "metadata": {},
   "source": [
    "Clone repository and download COCO 2014 dataset (20GB):"
   ]
  },
  {
   "cell_type": "code",
   "metadata": {},
   "source": [
    "!git clone https://github.com/ultralytics/yolov3  # clone\n",
    "!bash yolov3/data/get_coco_dataset_gdrive.sh  # copy COCO2014 dataset (19GB)\n",
    "%cd yolov3"
   ],
   "execution_count": null,
   "outputs": []
  },
  {
   "cell_type": "markdown",
   "metadata": {},
   "source": [
    "Run `detect.py` to perform inference on images in `data/samples` folder:"
   ]
  },
  {
   "cell_type": "code",
   "metadata": {},
   "source": [
    "!python3 detect.py\n",
    "Image(filename='output/zidane.jpg', width=600)"
   ],
   "execution_count": null,
   "outputs": []
  },
  {
   "cell_type": "markdown",
   "metadata": {},
   "source": [
    "Run `train.py` to train YOLOv3-SPP starting from a darknet53 backbone:"
   ]
  },
  {
   "cell_type": "code",
   "metadata": {},
   "source": [
    "!python3 train.py --data data/coco_64img.data --img-size 320 --epochs 3 --nosave"
   ],
   "execution_count": null,
   "outputs": []
  },
  {
   "cell_type": "markdown",
   "metadata": {},
   "source": [
    "Run `test.py` to evaluate the performance of a trained darknet or PyTorch model:"
   ]
  },
  {
   "cell_type": "code",
   "metadata": {},
   "source": [
    "!python3 test.py --data data/coco.data --save-json --img-size 416  # 0.565 mAP"
   ],
   "execution_count": null,
   "outputs": []
  },
  {
   "cell_type": "markdown",
   "metadata": {},
   "source": [
    "Reproduce tutorial training runs and plot training results:"
   ]
  },
  {
   "cell_type": "code",
   "metadata": {},
   "source": [
    "!python3 train.py --data data/coco_16img.data --batch-size 16 --accumulate 1 --nosave && mv results.txt results_coco_16img.txt  # CUSTOM TRAINING EXAMPLE\n",
    "!python3 train.py --data data/coco_64img.data --batch-size 16 --accumulate 1 --nosave && mv results.txt results_coco_64img.txt \n",
    "!python3 -c \"from utils import utils; utils.plot_results()\"  # plot training results\n",
    "Image(filename='results.png', width=800)"
   ],
   "execution_count": null,
   "outputs": []
  },
  {
   "cell_type": "markdown",
   "metadata": {},
   "source": [
    "Extras below\n",
    "\n",
    "---\n",
    "\n",
    "\n"
   ]
  },
  {
   "cell_type": "code",
   "metadata": {},
   "source": [
    "!git pull"
   ],
   "execution_count": null,
   "outputs": []
  },
  {
   "cell_type": "code",
   "metadata": {},
   "source": [
    "%cd yolov3"
   ],
   "execution_count": null,
   "outputs": []
  },
  {
   "cell_type": "code",
   "metadata": {},
   "source": [
    "%ls"
   ],
   "execution_count": null,
   "outputs": []
  },
  {
   "cell_type": "code",
   "metadata": {},
   "source": [
    "# Unit Tests\n",
    "!python3 detect.py  # detect 2 persons, 1 tie\n",
    "!python3 test.py --data data/coco_32img.data  # test mAP = 0.8\n",
    "!python3 train.py --data data/coco_32img.data --epochs 3 --nosave  # train 3 epochs"
   ],
   "execution_count": null,
   "outputs": []
  },
  {
   "cell_type": "code",
   "metadata": {},
   "source": [
    "# Evolve Hyperparameters\n",
    "!python3 train.py --data data/coco.data --img-size 320 --epochs 1 --evolve"
   ],
   "execution_count": null,
   "outputs": []
  }
 ]
}
